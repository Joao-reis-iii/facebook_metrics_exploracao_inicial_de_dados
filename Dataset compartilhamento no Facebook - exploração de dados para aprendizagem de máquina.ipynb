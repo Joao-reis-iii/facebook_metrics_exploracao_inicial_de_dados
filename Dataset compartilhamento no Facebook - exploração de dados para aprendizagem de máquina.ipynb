{
 "cells": [
  {
   "cell_type": "markdown",
   "id": "de6086c4",
   "metadata": {},
   "source": [
    "# Efeitos de postagens sobre a quantidade de compartilhamentos"
   ]
  },
  {
   "cell_type": "markdown",
   "id": "5a195bf7",
   "metadata": {},
   "source": [
    "# Marca de cosméticos e métricas no Facebook - Análise de dataset do Facebook para aprendizagem de máquina com Python\n",
    "\n",
    "Dataset disponível no link https://archive.ics.uci.edu/ml/datasets/Facebook+metrics\n",
    "\n",
    "\n",
    "# Objetivos: \n",
    "Analisar o dataset para predição do desempenho de postagem a partir dos dados. O indicador será \"compartilhamento\" das postagens."
   ]
  },
  {
   "cell_type": "markdown",
   "id": "eeeb2886",
   "metadata": {},
   "source": [
    "O arquivo csv baixado teve os dados separados por vírgula ( ; ), sendo salvo como facebook_5.csv."
   ]
  },
  {
   "cell_type": "code",
   "execution_count": 1,
   "id": "74b3cba4",
   "metadata": {},
   "outputs": [],
   "source": [
    "import pandas as pd"
   ]
  },
  {
   "cell_type": "code",
   "execution_count": 2,
   "id": "c24f749c",
   "metadata": {},
   "outputs": [],
   "source": [
    "df = pd.read_csv('facebook_5.csv')"
   ]
  },
  {
   "cell_type": "markdown",
   "id": "7b70428f",
   "metadata": {},
   "source": [
    "# VARIÁVEIS E INTERPRETAÇÃO DO SEU SIGNIFICADO\n",
    "O banco de dados original tem as colunas listadas abaixo. Reduzi os seus nomes diretamente no arquivo csv pelo Excel, para otimizar o espaço das tabelas, quando forem analisadas. \n",
    "Pela identificação das colunas, deduzi o significado de cada um, embora seja preciso verificar os dados para me certificar.\n",
    "\n",
    "\n",
    "**COLUNAS             - INTERPRETAÇÃO**\n",
    "\n",
    "CARACTERÍSTICAS CONHECIDAS A PRIORI\n",
    "\n",
    "**Page total likes**\t- A página do Facebook passa a ser seguida quando recebe um like. A quantidade de likes refere-se à quantidade de pessoas seguindo a página. Os seguidores têm mais probabilidade de serem impactados pelos posts.\n",
    "\n",
    "**Type**\t- As postagens foram no Status e na timelime. Foram fotos, links e vídeos.\n",
    "\n",
    "**Category**\t- Não consegui descobrir o significado deste atributo.\n",
    "\n",
    "**Post Month**\t- Mês da postagem (de 1 a 12).\n",
    "\n",
    "**Post Weekday**\t- Dia da postagem (de 1 a 7).\n",
    "\n",
    "**Post Hour**\t- Hora de postagem.\n",
    "\n",
    "**Paid**\t- A postagem pode ser impulsionada (paga) ou não.\n",
    "\n",
    "\n",
    "ATRIBUTOS PARA AVALIAÇÃO DO IMPACTO DAS POSTAGENS\n",
    "\n",
    "\n",
    "Lifetime Post Total Reach\t- - Alcance total vitalício da postagem.\n",
    "\n",
    "Lifetime Post Total Impressions\t- Impressões totais vitalícias da postagem.\n",
    "\n",
    "Lifetime Engaged Users\t- Engajamento vitalício dos usuários.\n",
    "\n",
    "Lifetime Post Consumers - Consumidores vitalícios dos posts.\n",
    "\n",
    "Lifetime Post Consumptions\t- Consumo vitalício dos posts.\n",
    "\n",
    "Lifetime Post Impressions by people who have liked your Page\t- Período vitalício de impressão dos posts por seguidos da página.\n",
    "\n",
    "Lifetime Post reach by people who like your Page\t- Período vitalício de alcance dos posts por seguidores da página.\n",
    "\n",
    "Lifetime People who have liked your Page and engaged with your post\t- Período vitalício de engajamento de pessoas que curtiram o post e seguiam a página.\n",
    "\n",
    "\n",
    "Comment\t- Número de comentários para o post.\n",
    "\n",
    "Like\t- Número de curtidas para o post.\n",
    "\n",
    "Share\t- Número de compartilhametos do post.\n",
    "\n",
    "Total Interactions - Total de interações (comentários)."
   ]
  },
  {
   "cell_type": "code",
   "execution_count": 3,
   "id": "81cc85ed",
   "metadata": {},
   "outputs": [
    {
     "data": {
      "text/plain": [
       "(500, 19)"
      ]
     },
     "execution_count": 3,
     "metadata": {},
     "output_type": "execute_result"
    }
   ],
   "source": [
    "df.shape"
   ]
  },
  {
   "cell_type": "code",
   "execution_count": 9,
   "id": "9a85141b",
   "metadata": {},
   "outputs": [
    {
     "data": {
      "text/plain": [
       "Index(['Page total likes', 'Type', 'Category', 'Post_Month', 'Post_Weekday',\n",
       "       'Post_Hour', 'Paid', 'Lifetime_Post_T_R', 'L_Post_T_Imp',\n",
       "       'Lif_Eng_Users', 'L_Post_Cons', 'L_Post_Consump', 'L_P_i_l_Page',\n",
       "       'L_l_Page', 'L_P_P_y_p', 'comment', 'like', 'share', 'T_Interact'],\n",
       "      dtype='object')"
      ]
     },
     "execution_count": 9,
     "metadata": {},
     "output_type": "execute_result"
    }
   ],
   "source": [
    "df.columns"
   ]
  },
  {
   "cell_type": "code",
   "execution_count": 13,
   "id": "60e6b40b",
   "metadata": {},
   "outputs": [
    {
     "data": {
      "text/html": [
       "<div>\n",
       "<style scoped>\n",
       "    .dataframe tbody tr th:only-of-type {\n",
       "        vertical-align: middle;\n",
       "    }\n",
       "\n",
       "    .dataframe tbody tr th {\n",
       "        vertical-align: top;\n",
       "    }\n",
       "\n",
       "    .dataframe thead th {\n",
       "        text-align: right;\n",
       "    }\n",
       "</style>\n",
       "<table border=\"1\" class=\"dataframe\">\n",
       "  <thead>\n",
       "    <tr style=\"text-align: right;\">\n",
       "      <th></th>\n",
       "      <th>Page total likes</th>\n",
       "      <th>Type</th>\n",
       "      <th>Category</th>\n",
       "      <th>Post_Month</th>\n",
       "      <th>Post_Weekday</th>\n",
       "      <th>Post_Hour</th>\n",
       "      <th>Paid</th>\n",
       "      <th>Lifetime_Post_T_R</th>\n",
       "      <th>L_Post_T_Imp</th>\n",
       "      <th>Lif_Eng_Users</th>\n",
       "      <th>L_Post_Cons</th>\n",
       "      <th>L_Post_Consump</th>\n",
       "      <th>L_P_i_l_Page</th>\n",
       "      <th>L_l_Page</th>\n",
       "      <th>L_P_P_y_p</th>\n",
       "      <th>comment</th>\n",
       "      <th>like</th>\n",
       "      <th>share</th>\n",
       "      <th>T_Interact</th>\n",
       "    </tr>\n",
       "  </thead>\n",
       "  <tbody>\n",
       "    <tr>\n",
       "      <th>0</th>\n",
       "      <td>139441</td>\n",
       "      <td>Photo</td>\n",
       "      <td>2</td>\n",
       "      <td>12</td>\n",
       "      <td>4</td>\n",
       "      <td>3</td>\n",
       "      <td>0.0</td>\n",
       "      <td>2752</td>\n",
       "      <td>5091</td>\n",
       "      <td>178</td>\n",
       "      <td>109</td>\n",
       "      <td>159</td>\n",
       "      <td>3078</td>\n",
       "      <td>1640</td>\n",
       "      <td>119</td>\n",
       "      <td>4</td>\n",
       "      <td>79.0</td>\n",
       "      <td>17.0</td>\n",
       "      <td>100</td>\n",
       "    </tr>\n",
       "    <tr>\n",
       "      <th>1</th>\n",
       "      <td>139441</td>\n",
       "      <td>Status</td>\n",
       "      <td>2</td>\n",
       "      <td>12</td>\n",
       "      <td>3</td>\n",
       "      <td>10</td>\n",
       "      <td>0.0</td>\n",
       "      <td>10460</td>\n",
       "      <td>19057</td>\n",
       "      <td>1457</td>\n",
       "      <td>1361</td>\n",
       "      <td>1674</td>\n",
       "      <td>11710</td>\n",
       "      <td>6112</td>\n",
       "      <td>1108</td>\n",
       "      <td>5</td>\n",
       "      <td>130.0</td>\n",
       "      <td>29.0</td>\n",
       "      <td>164</td>\n",
       "    </tr>\n",
       "    <tr>\n",
       "      <th>2</th>\n",
       "      <td>139441</td>\n",
       "      <td>Photo</td>\n",
       "      <td>3</td>\n",
       "      <td>12</td>\n",
       "      <td>3</td>\n",
       "      <td>3</td>\n",
       "      <td>0.0</td>\n",
       "      <td>2413</td>\n",
       "      <td>4373</td>\n",
       "      <td>177</td>\n",
       "      <td>113</td>\n",
       "      <td>154</td>\n",
       "      <td>2812</td>\n",
       "      <td>1503</td>\n",
       "      <td>132</td>\n",
       "      <td>0</td>\n",
       "      <td>66.0</td>\n",
       "      <td>14.0</td>\n",
       "      <td>80</td>\n",
       "    </tr>\n",
       "    <tr>\n",
       "      <th>3</th>\n",
       "      <td>139441</td>\n",
       "      <td>Photo</td>\n",
       "      <td>2</td>\n",
       "      <td>12</td>\n",
       "      <td>2</td>\n",
       "      <td>10</td>\n",
       "      <td>1.0</td>\n",
       "      <td>50128</td>\n",
       "      <td>87991</td>\n",
       "      <td>2211</td>\n",
       "      <td>790</td>\n",
       "      <td>1119</td>\n",
       "      <td>61027</td>\n",
       "      <td>32048</td>\n",
       "      <td>1386</td>\n",
       "      <td>58</td>\n",
       "      <td>1572.0</td>\n",
       "      <td>147.0</td>\n",
       "      <td>1777</td>\n",
       "    </tr>\n",
       "    <tr>\n",
       "      <th>4</th>\n",
       "      <td>139441</td>\n",
       "      <td>Photo</td>\n",
       "      <td>2</td>\n",
       "      <td>12</td>\n",
       "      <td>2</td>\n",
       "      <td>3</td>\n",
       "      <td>0.0</td>\n",
       "      <td>7244</td>\n",
       "      <td>13594</td>\n",
       "      <td>671</td>\n",
       "      <td>410</td>\n",
       "      <td>580</td>\n",
       "      <td>6228</td>\n",
       "      <td>3200</td>\n",
       "      <td>396</td>\n",
       "      <td>19</td>\n",
       "      <td>325.0</td>\n",
       "      <td>49.0</td>\n",
       "      <td>393</td>\n",
       "    </tr>\n",
       "  </tbody>\n",
       "</table>\n",
       "</div>"
      ],
      "text/plain": [
       "   Page total likes    Type  Category  Post_Month  Post_Weekday  Post_Hour  \\\n",
       "0            139441   Photo         2          12             4          3   \n",
       "1            139441  Status         2          12             3         10   \n",
       "2            139441   Photo         3          12             3          3   \n",
       "3            139441   Photo         2          12             2         10   \n",
       "4            139441   Photo         2          12             2          3   \n",
       "\n",
       "   Paid  Lifetime_Post_T_R  L_Post_T_Imp  Lif_Eng_Users  L_Post_Cons  \\\n",
       "0   0.0               2752          5091            178          109   \n",
       "1   0.0              10460         19057           1457         1361   \n",
       "2   0.0               2413          4373            177          113   \n",
       "3   1.0              50128         87991           2211          790   \n",
       "4   0.0               7244         13594            671          410   \n",
       "\n",
       "   L_Post_Consump  L_P_i_l_Page  L_l_Page  L_P_P_y_p  comment    like  share  \\\n",
       "0             159          3078      1640        119        4    79.0   17.0   \n",
       "1            1674         11710      6112       1108        5   130.0   29.0   \n",
       "2             154          2812      1503        132        0    66.0   14.0   \n",
       "3            1119         61027     32048       1386       58  1572.0  147.0   \n",
       "4             580          6228      3200        396       19   325.0   49.0   \n",
       "\n",
       "   T_Interact  \n",
       "0         100  \n",
       "1         164  \n",
       "2          80  \n",
       "3        1777  \n",
       "4         393  "
      ]
     },
     "execution_count": 13,
     "metadata": {},
     "output_type": "execute_result"
    }
   ],
   "source": [
    "df.head(5)"
   ]
  },
  {
   "cell_type": "code",
   "execution_count": 7,
   "id": "c9d68a57",
   "metadata": {},
   "outputs": [
    {
     "name": "stdout",
     "output_type": "stream",
     "text": [
      "<class 'pandas.core.frame.DataFrame'>\n",
      "RangeIndex: 500 entries, 0 to 499\n",
      "Data columns (total 19 columns):\n",
      " #   Column             Non-Null Count  Dtype  \n",
      "---  ------             --------------  -----  \n",
      " 0   Page total likes   500 non-null    int64  \n",
      " 1   Type               500 non-null    object \n",
      " 2   Category           500 non-null    int64  \n",
      " 3   Post_Month         500 non-null    int64  \n",
      " 4   Post_Weekday       500 non-null    int64  \n",
      " 5   Post_Hour          500 non-null    int64  \n",
      " 6   Paid               499 non-null    float64\n",
      " 7   Lifetime_Post_T_R  500 non-null    int64  \n",
      " 8   L_Post_T_Imp       500 non-null    int64  \n",
      " 9   Lif_Eng_Users      500 non-null    int64  \n",
      " 10  L_Post_Cons        500 non-null    int64  \n",
      " 11  L_Post_Consump     500 non-null    int64  \n",
      " 12  L_P_i_l_Page       500 non-null    int64  \n",
      " 13  L_l_Page           500 non-null    int64  \n",
      " 14  L_P_P_y_p          500 non-null    int64  \n",
      " 15  comment            500 non-null    int64  \n",
      " 16  like               499 non-null    float64\n",
      " 17  share              496 non-null    float64\n",
      " 18  T_Interact         500 non-null    int64  \n",
      "dtypes: float64(3), int64(15), object(1)\n",
      "memory usage: 74.3+ KB\n"
     ]
    }
   ],
   "source": [
    "df.info()"
   ]
  },
  {
   "cell_type": "code",
   "execution_count": 6,
   "id": "bd7c4bb6",
   "metadata": {},
   "outputs": [
    {
     "data": {
      "text/html": [
       "<div>\n",
       "<style scoped>\n",
       "    .dataframe tbody tr th:only-of-type {\n",
       "        vertical-align: middle;\n",
       "    }\n",
       "\n",
       "    .dataframe tbody tr th {\n",
       "        vertical-align: top;\n",
       "    }\n",
       "\n",
       "    .dataframe thead th {\n",
       "        text-align: right;\n",
       "    }\n",
       "</style>\n",
       "<table border=\"1\" class=\"dataframe\">\n",
       "  <thead>\n",
       "    <tr style=\"text-align: right;\">\n",
       "      <th></th>\n",
       "      <th>comment</th>\n",
       "      <th>like</th>\n",
       "      <th>share</th>\n",
       "      <th>T_Interact</th>\n",
       "    </tr>\n",
       "  </thead>\n",
       "  <tbody>\n",
       "    <tr>\n",
       "      <th>count</th>\n",
       "      <td>500.00000</td>\n",
       "      <td>499.000000</td>\n",
       "      <td>496.000000</td>\n",
       "      <td>500.000000</td>\n",
       "    </tr>\n",
       "    <tr>\n",
       "      <th>mean</th>\n",
       "      <td>7.48200</td>\n",
       "      <td>177.945892</td>\n",
       "      <td>27.266129</td>\n",
       "      <td>212.120000</td>\n",
       "    </tr>\n",
       "    <tr>\n",
       "      <th>std</th>\n",
       "      <td>21.18091</td>\n",
       "      <td>323.398742</td>\n",
       "      <td>42.613292</td>\n",
       "      <td>380.233118</td>\n",
       "    </tr>\n",
       "    <tr>\n",
       "      <th>min</th>\n",
       "      <td>0.00000</td>\n",
       "      <td>0.000000</td>\n",
       "      <td>0.000000</td>\n",
       "      <td>0.000000</td>\n",
       "    </tr>\n",
       "    <tr>\n",
       "      <th>25%</th>\n",
       "      <td>1.00000</td>\n",
       "      <td>56.500000</td>\n",
       "      <td>10.000000</td>\n",
       "      <td>71.000000</td>\n",
       "    </tr>\n",
       "    <tr>\n",
       "      <th>50%</th>\n",
       "      <td>3.00000</td>\n",
       "      <td>101.000000</td>\n",
       "      <td>19.000000</td>\n",
       "      <td>123.500000</td>\n",
       "    </tr>\n",
       "    <tr>\n",
       "      <th>75%</th>\n",
       "      <td>7.00000</td>\n",
       "      <td>187.500000</td>\n",
       "      <td>32.250000</td>\n",
       "      <td>228.500000</td>\n",
       "    </tr>\n",
       "    <tr>\n",
       "      <th>max</th>\n",
       "      <td>372.00000</td>\n",
       "      <td>5172.000000</td>\n",
       "      <td>790.000000</td>\n",
       "      <td>6334.000000</td>\n",
       "    </tr>\n",
       "  </tbody>\n",
       "</table>\n",
       "</div>"
      ],
      "text/plain": [
       "         comment         like       share   T_Interact\n",
       "count  500.00000   499.000000  496.000000   500.000000\n",
       "mean     7.48200   177.945892   27.266129   212.120000\n",
       "std     21.18091   323.398742   42.613292   380.233118\n",
       "min      0.00000     0.000000    0.000000     0.000000\n",
       "25%      1.00000    56.500000   10.000000    71.000000\n",
       "50%      3.00000   101.000000   19.000000   123.500000\n",
       "75%      7.00000   187.500000   32.250000   228.500000\n",
       "max    372.00000  5172.000000  790.000000  6334.000000"
      ]
     },
     "execution_count": 6,
     "metadata": {},
     "output_type": "execute_result"
    }
   ],
   "source": [
    "df[['comment', 'like', 'share', 'T_Interact']].describe()"
   ]
  },
  {
   "cell_type": "code",
   "execution_count": 9,
   "id": "ea74144b",
   "metadata": {},
   "outputs": [
    {
     "data": {
      "text/html": [
       "<div>\n",
       "<style scoped>\n",
       "    .dataframe tbody tr th:only-of-type {\n",
       "        vertical-align: middle;\n",
       "    }\n",
       "\n",
       "    .dataframe tbody tr th {\n",
       "        vertical-align: top;\n",
       "    }\n",
       "\n",
       "    .dataframe thead th {\n",
       "        text-align: right;\n",
       "    }\n",
       "</style>\n",
       "<table border=\"1\" class=\"dataframe\">\n",
       "  <thead>\n",
       "    <tr style=\"text-align: right;\">\n",
       "      <th></th>\n",
       "      <th>Post_Month</th>\n",
       "      <th>Post_Weekday</th>\n",
       "      <th>Post_Hour</th>\n",
       "      <th>Paid</th>\n",
       "    </tr>\n",
       "  </thead>\n",
       "  <tbody>\n",
       "    <tr>\n",
       "      <th>count</th>\n",
       "      <td>500.000000</td>\n",
       "      <td>500.000000</td>\n",
       "      <td>500.000000</td>\n",
       "      <td>499.000000</td>\n",
       "    </tr>\n",
       "    <tr>\n",
       "      <th>mean</th>\n",
       "      <td>7.038000</td>\n",
       "      <td>4.150000</td>\n",
       "      <td>7.840000</td>\n",
       "      <td>0.278557</td>\n",
       "    </tr>\n",
       "    <tr>\n",
       "      <th>std</th>\n",
       "      <td>3.307936</td>\n",
       "      <td>2.030701</td>\n",
       "      <td>4.368589</td>\n",
       "      <td>0.448739</td>\n",
       "    </tr>\n",
       "    <tr>\n",
       "      <th>min</th>\n",
       "      <td>1.000000</td>\n",
       "      <td>1.000000</td>\n",
       "      <td>1.000000</td>\n",
       "      <td>0.000000</td>\n",
       "    </tr>\n",
       "    <tr>\n",
       "      <th>25%</th>\n",
       "      <td>4.000000</td>\n",
       "      <td>2.000000</td>\n",
       "      <td>3.000000</td>\n",
       "      <td>0.000000</td>\n",
       "    </tr>\n",
       "    <tr>\n",
       "      <th>50%</th>\n",
       "      <td>7.000000</td>\n",
       "      <td>4.000000</td>\n",
       "      <td>9.000000</td>\n",
       "      <td>0.000000</td>\n",
       "    </tr>\n",
       "    <tr>\n",
       "      <th>75%</th>\n",
       "      <td>10.000000</td>\n",
       "      <td>6.000000</td>\n",
       "      <td>11.000000</td>\n",
       "      <td>1.000000</td>\n",
       "    </tr>\n",
       "    <tr>\n",
       "      <th>max</th>\n",
       "      <td>12.000000</td>\n",
       "      <td>7.000000</td>\n",
       "      <td>23.000000</td>\n",
       "      <td>1.000000</td>\n",
       "    </tr>\n",
       "  </tbody>\n",
       "</table>\n",
       "</div>"
      ],
      "text/plain": [
       "       Post_Month  Post_Weekday   Post_Hour        Paid\n",
       "count  500.000000    500.000000  500.000000  499.000000\n",
       "mean     7.038000      4.150000    7.840000    0.278557\n",
       "std      3.307936      2.030701    4.368589    0.448739\n",
       "min      1.000000      1.000000    1.000000    0.000000\n",
       "25%      4.000000      2.000000    3.000000    0.000000\n",
       "50%      7.000000      4.000000    9.000000    0.000000\n",
       "75%     10.000000      6.000000   11.000000    1.000000\n",
       "max     12.000000      7.000000   23.000000    1.000000"
      ]
     },
     "execution_count": 9,
     "metadata": {},
     "output_type": "execute_result"
    }
   ],
   "source": [
    "df[['Post_Month', 'Post_Weekday',      \n",
    " 'Post_Hour',          \n",
    " 'Paid', ]].describe()"
   ]
  },
  {
   "cell_type": "code",
   "execution_count": 10,
   "id": "520d2e5f",
   "metadata": {},
   "outputs": [
    {
     "data": {
      "text/html": [
       "<div>\n",
       "<style scoped>\n",
       "    .dataframe tbody tr th:only-of-type {\n",
       "        vertical-align: middle;\n",
       "    }\n",
       "\n",
       "    .dataframe tbody tr th {\n",
       "        vertical-align: top;\n",
       "    }\n",
       "\n",
       "    .dataframe thead th {\n",
       "        text-align: right;\n",
       "    }\n",
       "</style>\n",
       "<table border=\"1\" class=\"dataframe\">\n",
       "  <thead>\n",
       "    <tr style=\"text-align: right;\">\n",
       "      <th></th>\n",
       "      <th>Lifetime_Post_T_R</th>\n",
       "      <th>L_Post_T_Imp</th>\n",
       "      <th>Lif_Eng_Users</th>\n",
       "      <th>L_Post_Cons</th>\n",
       "      <th>L_Post_Consump</th>\n",
       "      <th>L_P_i_l_Page</th>\n",
       "      <th>L_l_Page</th>\n",
       "      <th>L_P_P_y_p</th>\n",
       "    </tr>\n",
       "  </thead>\n",
       "  <tbody>\n",
       "    <tr>\n",
       "      <th>count</th>\n",
       "      <td>500.00000</td>\n",
       "      <td>5.000000e+02</td>\n",
       "      <td>500.000000</td>\n",
       "      <td>500.000000</td>\n",
       "      <td>500.000000</td>\n",
       "      <td>5.000000e+02</td>\n",
       "      <td>500.000000</td>\n",
       "      <td>500.000000</td>\n",
       "    </tr>\n",
       "    <tr>\n",
       "      <th>mean</th>\n",
       "      <td>13903.36000</td>\n",
       "      <td>2.958595e+04</td>\n",
       "      <td>920.344000</td>\n",
       "      <td>798.772000</td>\n",
       "      <td>1415.130000</td>\n",
       "      <td>1.676638e+04</td>\n",
       "      <td>6585.488000</td>\n",
       "      <td>609.986000</td>\n",
       "    </tr>\n",
       "    <tr>\n",
       "      <th>std</th>\n",
       "      <td>22740.78789</td>\n",
       "      <td>7.680325e+04</td>\n",
       "      <td>985.016636</td>\n",
       "      <td>882.505013</td>\n",
       "      <td>2000.594118</td>\n",
       "      <td>5.979102e+04</td>\n",
       "      <td>7682.009405</td>\n",
       "      <td>612.725618</td>\n",
       "    </tr>\n",
       "    <tr>\n",
       "      <th>min</th>\n",
       "      <td>238.00000</td>\n",
       "      <td>5.700000e+02</td>\n",
       "      <td>9.000000</td>\n",
       "      <td>9.000000</td>\n",
       "      <td>9.000000</td>\n",
       "      <td>5.670000e+02</td>\n",
       "      <td>236.000000</td>\n",
       "      <td>9.000000</td>\n",
       "    </tr>\n",
       "    <tr>\n",
       "      <th>25%</th>\n",
       "      <td>3315.00000</td>\n",
       "      <td>5.694750e+03</td>\n",
       "      <td>393.750000</td>\n",
       "      <td>332.500000</td>\n",
       "      <td>509.250000</td>\n",
       "      <td>3.969750e+03</td>\n",
       "      <td>2181.500000</td>\n",
       "      <td>291.000000</td>\n",
       "    </tr>\n",
       "    <tr>\n",
       "      <th>50%</th>\n",
       "      <td>5281.00000</td>\n",
       "      <td>9.051000e+03</td>\n",
       "      <td>625.500000</td>\n",
       "      <td>551.500000</td>\n",
       "      <td>851.000000</td>\n",
       "      <td>6.255500e+03</td>\n",
       "      <td>3417.000000</td>\n",
       "      <td>412.000000</td>\n",
       "    </tr>\n",
       "    <tr>\n",
       "      <th>75%</th>\n",
       "      <td>13168.00000</td>\n",
       "      <td>2.208550e+04</td>\n",
       "      <td>1062.000000</td>\n",
       "      <td>955.500000</td>\n",
       "      <td>1463.000000</td>\n",
       "      <td>1.486050e+04</td>\n",
       "      <td>7989.000000</td>\n",
       "      <td>656.250000</td>\n",
       "    </tr>\n",
       "    <tr>\n",
       "      <th>max</th>\n",
       "      <td>180480.00000</td>\n",
       "      <td>1.110282e+06</td>\n",
       "      <td>11452.000000</td>\n",
       "      <td>11328.000000</td>\n",
       "      <td>19779.000000</td>\n",
       "      <td>1.107833e+06</td>\n",
       "      <td>51456.000000</td>\n",
       "      <td>4376.000000</td>\n",
       "    </tr>\n",
       "  </tbody>\n",
       "</table>\n",
       "</div>"
      ],
      "text/plain": [
       "       Lifetime_Post_T_R  L_Post_T_Imp  Lif_Eng_Users   L_Post_Cons  \\\n",
       "count          500.00000  5.000000e+02     500.000000    500.000000   \n",
       "mean         13903.36000  2.958595e+04     920.344000    798.772000   \n",
       "std          22740.78789  7.680325e+04     985.016636    882.505013   \n",
       "min            238.00000  5.700000e+02       9.000000      9.000000   \n",
       "25%           3315.00000  5.694750e+03     393.750000    332.500000   \n",
       "50%           5281.00000  9.051000e+03     625.500000    551.500000   \n",
       "75%          13168.00000  2.208550e+04    1062.000000    955.500000   \n",
       "max         180480.00000  1.110282e+06   11452.000000  11328.000000   \n",
       "\n",
       "       L_Post_Consump  L_P_i_l_Page      L_l_Page    L_P_P_y_p  \n",
       "count      500.000000  5.000000e+02    500.000000   500.000000  \n",
       "mean      1415.130000  1.676638e+04   6585.488000   609.986000  \n",
       "std       2000.594118  5.979102e+04   7682.009405   612.725618  \n",
       "min          9.000000  5.670000e+02    236.000000     9.000000  \n",
       "25%        509.250000  3.969750e+03   2181.500000   291.000000  \n",
       "50%        851.000000  6.255500e+03   3417.000000   412.000000  \n",
       "75%       1463.000000  1.486050e+04   7989.000000   656.250000  \n",
       "max      19779.000000  1.107833e+06  51456.000000  4376.000000  "
      ]
     },
     "execution_count": 10,
     "metadata": {},
     "output_type": "execute_result"
    }
   ],
   "source": [
    "df[['Lifetime_Post_T_R',   \n",
    "'L_Post_T_Imp',\n",
    "'Lif_Eng_Users',     \n",
    " 'L_Post_Cons',          \n",
    " 'L_Post_Consump',   \n",
    " 'L_P_i_l_Page',        \n",
    " 'L_l_Page',             \n",
    " 'L_P_P_y_p']].describe()"
   ]
  },
  {
   "cell_type": "code",
   "execution_count": 55,
   "id": "15da5300",
   "metadata": {},
   "outputs": [
    {
     "data": {
      "text/plain": [
       "0.0    360\n",
       "1.0    139\n",
       "Name: Paid, dtype: int64"
      ]
     },
     "execution_count": 55,
     "metadata": {},
     "output_type": "execute_result"
    }
   ],
   "source": [
    "id_counts.head() #A manioria das postagens não foram impulsionadas (pagas)."
   ]
  },
  {
   "cell_type": "code",
   "execution_count": 8,
   "id": "a88062ab",
   "metadata": {},
   "outputs": [],
   "source": [
    "import numpy as np"
   ]
  },
  {
   "cell_type": "markdown",
   "id": "20394153",
   "metadata": {},
   "source": [
    "Como as variáveis estão expressas nas colunas do dataset"
   ]
  },
  {
   "cell_type": "code",
   "execution_count": 14,
   "id": "0e72b64b",
   "metadata": {},
   "outputs": [
    {
     "data": {
      "text/plain": [
       "Photo     426\n",
       "Status     45\n",
       "Link       22\n",
       "Video       7\n",
       "Name: Type, dtype: int64"
      ]
     },
     "execution_count": 14,
     "metadata": {},
     "output_type": "execute_result"
    }
   ],
   "source": [
    "df['Type'].value_counts() \n",
    "#As postagens foram no Status e no timelime, em formato de fotos, links e vídeos"
   ]
  },
  {
   "cell_type": "markdown",
   "id": "b8eecc24",
   "metadata": {},
   "source": [
    "A página em que os posts foram publicados variou a quantidade de seguidores de 93577 a 136393 de janeiro a dezembro de 2014 (foram publicadas em 2014.)"
   ]
  },
  {
   "cell_type": "code",
   "execution_count": 15,
   "id": "ca10be06",
   "metadata": {},
   "outputs": [
    {
     "data": {
      "text/plain": [
       "136393    18\n",
       "124940    17\n",
       "129600    15\n",
       "138895    14\n",
       "139441    14\n",
       "          ..\n",
       "93042      1\n",
       "91437      1\n",
       "91972      1\n",
       "133451     1\n",
       "93577      1\n",
       "Name: Page total likes, Length: 90, dtype: int64"
      ]
     },
     "execution_count": 15,
     "metadata": {},
     "output_type": "execute_result"
    }
   ],
   "source": [
    "df['Page total likes'].value_counts()"
   ]
  },
  {
   "cell_type": "code",
   "execution_count": 18,
   "id": "9badb73c",
   "metadata": {},
   "outputs": [
    {
     "data": {
      "text/plain": [
       "Photo     426\n",
       "Status     45\n",
       "Link       22\n",
       "Video       7\n",
       "Name: Type, dtype: int64"
      ]
     },
     "execution_count": 18,
     "metadata": {},
     "output_type": "execute_result"
    }
   ],
   "source": [
    "df['Type'].value_counts() #Há desequilíbro no percentual de fotos (85%), por isso lidaremos apenas com fotos."
   ]
  },
  {
   "cell_type": "code",
   "execution_count": 19,
   "id": "4cf2af39",
   "metadata": {},
   "outputs": [
    {
     "data": {
      "text/plain": [
       "0.0    360\n",
       "1.0    139\n",
       "Name: Paid, dtype: int64"
      ]
     },
     "execution_count": 19,
     "metadata": {},
     "output_type": "execute_result"
    }
   ],
   "source": [
    "df['Paid'].value_counts() #Quantas postagens foram pagas (1,0) ou não (0.0)"
   ]
  },
  {
   "cell_type": "markdown",
   "id": "c731adb9",
   "metadata": {},
   "source": [
    "38,6% das postagem foram impulsionadas (pagas).\n",
    "\n",
    "A quantidade de postagens mensais variou, iniciando com 25 postagens ao mês, e atingindo o número máximo de postagens no mês 10."
   ]
  },
  {
   "cell_type": "code",
   "execution_count": 56,
   "id": "b053ddb5",
   "metadata": {},
   "outputs": [
    {
     "data": {
      "text/plain": [
       "10    60\n",
       "7     52\n",
       "4     50\n",
       "12    50\n",
       "6     49\n",
       "11    45\n",
       "5     37\n",
       "3     36\n",
       "9     36\n",
       "8     34\n",
       "2     26\n",
       "1     25\n",
       "Name: Post_Month, dtype: int64"
      ]
     },
     "execution_count": 56,
     "metadata": {},
     "output_type": "execute_result"
    }
   ],
   "source": [
    "df['Post_Month'].value_counts()"
   ]
  },
  {
   "cell_type": "code",
   "execution_count": 13,
   "id": "ff8f36d7",
   "metadata": {},
   "outputs": [
    {
     "data": {
      "text/plain": [
       "7    82\n",
       "6    81\n",
       "4    72\n",
       "1    68\n",
       "5    67\n",
       "2    66\n",
       "3    64\n",
       "Name: Post_Weekday, dtype: int64"
      ]
     },
     "execution_count": 13,
     "metadata": {},
     "output_type": "execute_result"
    }
   ],
   "source": [
    "df['Post_Weekday'].value_counts() "
   ]
  },
  {
   "cell_type": "code",
   "execution_count": 38,
   "id": "c1cc7825",
   "metadata": {},
   "outputs": [
    {
     "data": {
      "text/plain": [
       "1    215\n",
       "3    155\n",
       "2    130\n",
       "Name: Category, dtype: int64"
      ]
     },
     "execution_count": 38,
     "metadata": {},
     "output_type": "execute_result"
    }
   ],
   "source": [
    "df['Category'].value_counts() # Esta variável é não pôde ter seu significado inferido. "
   ]
  },
  {
   "cell_type": "code",
   "execution_count": 15,
   "id": "3da4e0f2",
   "metadata": {},
   "outputs": [
    {
     "data": {
      "text/plain": [
       "3     105\n",
       "10     78\n",
       "13     52\n",
       "11     44\n",
       "2      39\n",
       "4      35\n",
       "9      30\n",
       "12     29\n",
       "6      16\n",
       "5      13\n",
       "7      13\n",
       "14     13\n",
       "8      12\n",
       "15      6\n",
       "1       4\n",
       "17      3\n",
       "18      3\n",
       "16      1\n",
       "19      1\n",
       "20      1\n",
       "22      1\n",
       "23      1\n",
       "Name: Post_Hour, dtype: int64"
      ]
     },
     "execution_count": 15,
     "metadata": {},
     "output_type": "execute_result"
    }
   ],
   "source": [
    "df['Post_Hour'].value_counts()"
   ]
  },
  {
   "cell_type": "code",
   "execution_count": 16,
   "id": "6cf4c817",
   "metadata": {},
   "outputs": [
    {
     "data": {
      "text/plain": [
       "3414     2\n",
       "32208    2\n",
       "9528     2\n",
       "3754     2\n",
       "13544    2\n",
       "        ..\n",
       "3384     1\n",
       "63840    1\n",
       "3100     1\n",
       "3418     1\n",
       "4094     1\n",
       "Name: Lifetime_Post_T_R, Length: 485, dtype: int64"
      ]
     },
     "execution_count": 16,
     "metadata": {},
     "output_type": "execute_result"
    }
   ],
   "source": [
    "df['Lifetime_Post_T_R'].value_counts()"
   ]
  },
  {
   "cell_type": "code",
   "execution_count": 17,
   "id": "efaf4862",
   "metadata": {},
   "outputs": [
    {
     "data": {
      "text/plain": [
       "6503     2\n",
       "12735    2\n",
       "4372     2\n",
       "8533     2\n",
       "7004     2\n",
       "        ..\n",
       "1374     1\n",
       "5230     1\n",
       "3611     1\n",
       "35161    1\n",
       "7165     1\n",
       "Name: L_Post_T_Imp, Length: 494, dtype: int64"
      ]
     },
     "execution_count": 17,
     "metadata": {},
     "output_type": "execute_result"
    }
   ],
   "source": [
    "df['L_Post_T_Imp'].value_counts()"
   ]
  },
  {
   "cell_type": "code",
   "execution_count": 26,
   "id": "b7ab2bfa",
   "metadata": {},
   "outputs": [
    {
     "data": {
      "text/plain": [
       "537     4\n",
       "735     3\n",
       "517     3\n",
       "564     3\n",
       "206     3\n",
       "       ..\n",
       "363     1\n",
       "1383    1\n",
       "1382    1\n",
       "357     1\n",
       "2552    1\n",
       "Name: Lif_Eng_Users, Length: 414, dtype: int64"
      ]
     },
     "execution_count": 26,
     "metadata": {},
     "output_type": "execute_result"
    }
   ],
   "source": [
    "df['Lif_Eng_Users'].value_counts()"
   ]
  },
  {
   "cell_type": "code",
   "execution_count": 27,
   "id": "8e8b7f09",
   "metadata": {},
   "outputs": [
    {
     "data": {
      "text/plain": [
       "298     3\n",
       "513     3\n",
       "642     3\n",
       "482     3\n",
       "182     3\n",
       "       ..\n",
       "334     1\n",
       "333     1\n",
       "331     1\n",
       "325     1\n",
       "1023    1\n",
       "Name: L_Post_Cons, Length: 422, dtype: int64"
      ]
     },
     "execution_count": 27,
     "metadata": {},
     "output_type": "execute_result"
    }
   ],
   "source": [
    "df['L_Post_Cons'].value_counts()\n"
   ]
  },
  {
   "cell_type": "code",
   "execution_count": 28,
   "id": "058add82",
   "metadata": {},
   "outputs": [
    {
     "data": {
      "text/plain": [
       "599     3\n",
       "719     3\n",
       "889     3\n",
       "513     3\n",
       "730     3\n",
       "       ..\n",
       "1410    1\n",
       "1408    1\n",
       "383     1\n",
       "379     1\n",
       "3599    1\n",
       "Name: L_Post_Consump, Length: 440, dtype: int64"
      ]
     },
     "execution_count": 28,
     "metadata": {},
     "output_type": "execute_result"
    }
   ],
   "source": [
    "df['L_Post_Consump'].value_counts()\n"
   ]
  },
  {
   "cell_type": "code",
   "execution_count": 29,
   "id": "70d3923d",
   "metadata": {},
   "outputs": [
    {
     "data": {
      "text/plain": [
       "4911     2\n",
       "5732     2\n",
       "1210     2\n",
       "1284     2\n",
       "2888     2\n",
       "        ..\n",
       "15678    1\n",
       "6461     1\n",
       "3382     1\n",
       "17717    1\n",
       "26622    1\n",
       "Name: L_P_i_l_Page, Length: 491, dtype: int64"
      ]
     },
     "execution_count": 29,
     "metadata": {},
     "output_type": "execute_result"
    }
   ],
   "source": [
    "df['L_P_i_l_Page'].value_counts()\n"
   ]
  },
  {
   "cell_type": "code",
   "execution_count": 30,
   "id": "8b0a777b",
   "metadata": {},
   "outputs": [
    {
     "data": {
      "text/plain": [
       "1674     2\n",
       "1722     2\n",
       "5348     2\n",
       "2644     2\n",
       "3216     2\n",
       "        ..\n",
       "18880    1\n",
       "4454     1\n",
       "1943     1\n",
       "8548     1\n",
       "27328    1\n",
       "Name: L_l_Page, Length: 469, dtype: int64"
      ]
     },
     "execution_count": 30,
     "metadata": {},
     "output_type": "execute_result"
    }
   ],
   "source": [
    "df['L_l_Page'].value_counts()\n"
   ]
  },
  {
   "cell_type": "code",
   "execution_count": 31,
   "id": "1931ebad",
   "metadata": {},
   "outputs": [
    {
     "data": {
      "text/plain": [
       "403     5\n",
       "340     4\n",
       "327     4\n",
       "363     4\n",
       "392     3\n",
       "       ..\n",
       "584     1\n",
       "701     1\n",
       "1724    1\n",
       "187     1\n",
       "1020    1\n",
       "Name: L_P_P_y_p, Length: 382, dtype: int64"
      ]
     },
     "execution_count": 31,
     "metadata": {},
     "output_type": "execute_result"
    }
   ],
   "source": [
    "df['L_P_P_y_p'].value_counts()\n"
   ]
  },
  {
   "cell_type": "code",
   "execution_count": 32,
   "id": "41d22abc",
   "metadata": {},
   "outputs": [
    {
     "data": {
      "text/plain": [
       "0      106\n",
       "2       71\n",
       "1       62\n",
       "4       44\n",
       "3       36\n",
       "6       26\n",
       "5       20\n",
       "7       20\n",
       "9       15\n",
       "10      11\n",
       "8        8\n",
       "11       8\n",
       "12       7\n",
       "18       6\n",
       "20       5\n",
       "16       5\n",
       "17       4\n",
       "13       4\n",
       "14       3\n",
       "25       3\n",
       "19       3\n",
       "26       2\n",
       "45       2\n",
       "36       2\n",
       "33       2\n",
       "30       2\n",
       "15       2\n",
       "24       2\n",
       "22       2\n",
       "144      1\n",
       "146      1\n",
       "51       1\n",
       "103      1\n",
       "64       1\n",
       "60       1\n",
       "58       1\n",
       "56       1\n",
       "23       1\n",
       "47       1\n",
       "42       1\n",
       "41       1\n",
       "38       1\n",
       "37       1\n",
       "29       1\n",
       "21       1\n",
       "372      1\n",
       "Name: comment, dtype: int64"
      ]
     },
     "execution_count": 32,
     "metadata": {},
     "output_type": "execute_result"
    }
   ],
   "source": [
    "df['comment'].value_counts()\n"
   ]
  },
  {
   "cell_type": "code",
   "execution_count": 39,
   "id": "cf691f66",
   "metadata": {},
   "outputs": [
    {
     "data": {
      "text/plain": [
       "98.0      7\n",
       "72.0      6\n",
       "79.0      6\n",
       "7.0       6\n",
       "148.0     6\n",
       "         ..\n",
       "1372.0    1\n",
       "285.0     1\n",
       "92.0      1\n",
       "358.0     1\n",
       "168.0     1\n",
       "Name: like, Length: 257, dtype: int64"
      ]
     },
     "execution_count": 39,
     "metadata": {},
     "output_type": "execute_result"
    }
   ],
   "source": [
    "df['like'].value_counts()\n"
   ]
  },
  {
   "cell_type": "code",
   "execution_count": 40,
   "id": "f1c9af53",
   "metadata": {},
   "outputs": [
    {
     "data": {
      "text/plain": [
       "13.0     20\n",
       "14.0     20\n",
       "26.0     16\n",
       "10.0     16\n",
       "16.0     15\n",
       "         ..\n",
       "74.0      1\n",
       "139.0     1\n",
       "80.0      1\n",
       "77.0      1\n",
       "128.0     1\n",
       "Name: share, Length: 88, dtype: int64"
      ]
     },
     "execution_count": 40,
     "metadata": {},
     "output_type": "execute_result"
    }
   ],
   "source": [
    "df['share'].value_counts()\n"
   ]
  },
  {
   "cell_type": "code",
   "execution_count": 41,
   "id": "51829425",
   "metadata": {},
   "outputs": [
    {
     "data": {
      "text/plain": [
       "0      6\n",
       "75     6\n",
       "39     6\n",
       "97     5\n",
       "67     5\n",
       "      ..\n",
       "730    1\n",
       "220    1\n",
       "222    1\n",
       "266    1\n",
       "173    1\n",
       "Name: T_Interact, Length: 280, dtype: int64"
      ]
     },
     "execution_count": 41,
     "metadata": {},
     "output_type": "execute_result"
    }
   ],
   "source": [
    "df['T_Interact'].value_counts()"
   ]
  },
  {
   "cell_type": "code",
   "execution_count": 4,
   "id": "961a126e",
   "metadata": {},
   "outputs": [
    {
     "name": "stdout",
     "output_type": "stream",
     "text": [
      "The Python version is 3.8.8 (default, Apr 13 2021, 15:08:03) [MSC v.1916 64 bit (AMD64)].\n",
      "\n",
      "The Numpy version is 1.20.1.\n",
      "\n",
      "The Pandas version is 1.2.4.\n",
      "\n",
      "The Matplotlib version is 3.3.4.\n",
      "\n",
      "The Scikit-Learn version is 0.24.1.\n",
      "\n"
     ]
    }
   ],
   "source": [
    "# Carregar pacotes com indicação de versões\n",
    "import sys\n",
    "import numpy as np\n",
    "import pandas as pd\n",
    "import matplotlib as mpl\n",
    "import sklearn\n",
    "\n",
    "print('The Python version is {}.\\n'.format(sys.version))\n",
    "print('The Numpy version is {}.\\n'.format(np.__version__))\n",
    "print('The Pandas version is {}.\\n'.format(pd.__version__))\n",
    "print('The Matplotlib version is {}.\\n'.format(mpl.__version__))\n",
    "print('The Scikit-Learn version is {}.\\n'.format(sklearn.__version__))"
   ]
  },
  {
   "cell_type": "code",
   "execution_count": 5,
   "id": "ca408726",
   "metadata": {},
   "outputs": [],
   "source": [
    "import numpy as np #numerical computation\n",
    "import pandas as pd #data wrangling\n",
    "import matplotlib.pyplot as plt #plotting package\n",
    "#Next line helps with rendering plots\n",
    "%matplotlib inline\n",
    "import matplotlib as mpl #add'l plotting functionality\n",
    "import seaborn as sns #a fancy plotting package\n",
    "mpl.rcParams['figure.dpi'] = 400 #high res figures"
   ]
  },
  {
   "cell_type": "code",
   "execution_count": 7,
   "id": "10335965",
   "metadata": {},
   "outputs": [],
   "source": [
    "df = pd.read_csv('facebook_5.csv')"
   ]
  },
  {
   "cell_type": "code",
   "execution_count": 8,
   "id": "c223a5b8",
   "metadata": {},
   "outputs": [],
   "source": [
    "features_response = df.columns.tolist()"
   ]
  },
  {
   "cell_type": "code",
   "execution_count": 10,
   "id": "f9acaee1",
   "metadata": {},
   "outputs": [
    {
     "data": {
      "text/plain": [
       "['Page total likes',\n",
       " 'Type',\n",
       " 'Category',\n",
       " 'Post_Month',\n",
       " 'Post_Weekday',\n",
       " 'Post_Hour',\n",
       " 'Paid']"
      ]
     },
     "execution_count": 10,
     "metadata": {},
     "output_type": "execute_result"
    }
   ],
   "source": [
    "features_response[:7]"
   ]
  },
  {
   "cell_type": "code",
   "execution_count": 19,
   "id": "4e8d4728",
   "metadata": {},
   "outputs": [
    {
     "data": {
      "text/plain": [
       "['Lifetime_Post_T_R',\n",
       " 'L_Post_T_Imp',\n",
       " 'Lif_Eng_Users',\n",
       " 'L_Post_Cons',\n",
       " 'L_Post_Consump',\n",
       " 'L_P_i_l_Page',\n",
       " 'L_l_Page',\n",
       " 'L_P_P_y_p',\n",
       " 'comment',\n",
       " 'like',\n",
       " 'share',\n",
       " 'T_Interact']"
      ]
     },
     "execution_count": 19,
     "metadata": {},
     "output_type": "execute_result"
    }
   ],
   "source": [
    "features_response[-12:]"
   ]
  },
  {
   "cell_type": "code",
   "execution_count": 24,
   "id": "5b9f8f76",
   "metadata": {},
   "outputs": [],
   "source": [
    "items_to_remove = ['Lifetime_Post_T_R',\n",
    " 'L_Post_T_Imp',\n",
    " 'Lif_Eng_Users',\n",
    " 'L_Post_Cons',\n",
    " 'L_Post_Consump',\n",
    " 'L_P_i_l_Page',\n",
    " 'L_l_Page',\n",
    " 'L_P_P_y_p',\n",
    " 'comment',\n",
    " 'like',\n",
    " 'T_Interact','Category']"
   ]
  },
  {
   "cell_type": "code",
   "execution_count": 25,
   "id": "d971f947",
   "metadata": {},
   "outputs": [
    {
     "data": {
      "text/plain": [
       "['Page total likes',\n",
       " 'Type',\n",
       " 'Post_Month',\n",
       " 'Post_Weekday',\n",
       " 'Post_Hour',\n",
       " 'Paid',\n",
       " 'share']"
      ]
     },
     "execution_count": 25,
     "metadata": {},
     "output_type": "execute_result"
    }
   ],
   "source": [
    "features_response = [item for item in features_response if item not in items_to_remove]\n",
    "features_response"
   ]
  },
  {
   "cell_type": "code",
   "execution_count": 27,
   "id": "e50e846f",
   "metadata": {},
   "outputs": [
    {
     "data": {
      "text/html": [
       "<div>\n",
       "<style scoped>\n",
       "    .dataframe tbody tr th:only-of-type {\n",
       "        vertical-align: middle;\n",
       "    }\n",
       "\n",
       "    .dataframe tbody tr th {\n",
       "        vertical-align: top;\n",
       "    }\n",
       "\n",
       "    .dataframe thead th {\n",
       "        text-align: right;\n",
       "    }\n",
       "</style>\n",
       "<table border=\"1\" class=\"dataframe\">\n",
       "  <thead>\n",
       "    <tr style=\"text-align: right;\">\n",
       "      <th></th>\n",
       "      <th>Page total likes</th>\n",
       "      <th>Post_Month</th>\n",
       "      <th>Post_Weekday</th>\n",
       "      <th>Post_Hour</th>\n",
       "      <th>Paid</th>\n",
       "      <th>share</th>\n",
       "    </tr>\n",
       "  </thead>\n",
       "  <tbody>\n",
       "    <tr>\n",
       "      <th>Page total likes</th>\n",
       "      <td>1.000000</td>\n",
       "      <td>0.941192</td>\n",
       "      <td>-0.005401</td>\n",
       "      <td>-0.143807</td>\n",
       "      <td>0.005341</td>\n",
       "      <td>-0.004859</td>\n",
       "    </tr>\n",
       "    <tr>\n",
       "      <th>Post_Month</th>\n",
       "      <td>0.941192</td>\n",
       "      <td>1.000000</td>\n",
       "      <td>0.017050</td>\n",
       "      <td>-0.176390</td>\n",
       "      <td>-0.018934</td>\n",
       "      <td>-0.021859</td>\n",
       "    </tr>\n",
       "    <tr>\n",
       "      <th>Post_Weekday</th>\n",
       "      <td>-0.005401</td>\n",
       "      <td>0.017050</td>\n",
       "      <td>1.000000</td>\n",
       "      <td>0.045857</td>\n",
       "      <td>-0.001963</td>\n",
       "      <td>-0.048713</td>\n",
       "    </tr>\n",
       "    <tr>\n",
       "      <th>Post_Hour</th>\n",
       "      <td>-0.143807</td>\n",
       "      <td>-0.176390</td>\n",
       "      <td>0.045857</td>\n",
       "      <td>1.000000</td>\n",
       "      <td>-0.069464</td>\n",
       "      <td>-0.058680</td>\n",
       "    </tr>\n",
       "    <tr>\n",
       "      <th>Paid</th>\n",
       "      <td>0.005341</td>\n",
       "      <td>-0.018934</td>\n",
       "      <td>-0.001963</td>\n",
       "      <td>-0.069464</td>\n",
       "      <td>1.000000</td>\n",
       "      <td>0.076821</td>\n",
       "    </tr>\n",
       "    <tr>\n",
       "      <th>share</th>\n",
       "      <td>-0.004859</td>\n",
       "      <td>-0.021859</td>\n",
       "      <td>-0.048713</td>\n",
       "      <td>-0.058680</td>\n",
       "      <td>0.076821</td>\n",
       "      <td>1.000000</td>\n",
       "    </tr>\n",
       "  </tbody>\n",
       "</table>\n",
       "</div>"
      ],
      "text/plain": [
       "                  Page total likes  Post_Month  Post_Weekday  Post_Hour  \\\n",
       "Page total likes          1.000000    0.941192     -0.005401  -0.143807   \n",
       "Post_Month                0.941192    1.000000      0.017050  -0.176390   \n",
       "Post_Weekday             -0.005401    0.017050      1.000000   0.045857   \n",
       "Post_Hour                -0.143807   -0.176390      0.045857   1.000000   \n",
       "Paid                      0.005341   -0.018934     -0.001963  -0.069464   \n",
       "share                    -0.004859   -0.021859     -0.048713  -0.058680   \n",
       "\n",
       "                      Paid     share  \n",
       "Page total likes  0.005341 -0.004859  \n",
       "Post_Month       -0.018934 -0.021859  \n",
       "Post_Weekday     -0.001963 -0.048713  \n",
       "Post_Hour        -0.069464 -0.058680  \n",
       "Paid              1.000000  0.076821  \n",
       "share             0.076821  1.000000  "
      ]
     },
     "execution_count": 27,
     "metadata": {},
     "output_type": "execute_result"
    }
   ],
   "source": [
    "corr = df[features_response].corr()\n",
    "corr.iloc[0:7,0:7]"
   ]
  },
  {
   "cell_type": "code",
   "execution_count": 29,
   "id": "300c653a",
   "metadata": {},
   "outputs": [
    {
     "data": {
      "text/plain": [
       "<AxesSubplot:>"
      ]
     },
     "execution_count": 29,
     "metadata": {},
     "output_type": "execute_result"
    },
    {
     "data": {
      "image/png": "[encoded data removed]",
      "text/plain": [
       "<Figure size 2400x1600 with 2 Axes>"
      ]
     },
     "metadata": {
      "needs_background": "light"
     },
     "output_type": "display_data"
    }
   ],
   "source": [
    "mpl.rcParams['figure.dpi'] = 400 #figura com alta resolução\n",
    "sns.heatmap(corr, \n",
    "            xticklabels=corr.columns.values,\n",
    "            yticklabels=corr.columns.values,\n",
    "            center=0)"
   ]
  },
  {
   "cell_type": "markdown",
   "id": "6543c0b6",
   "metadata": {},
   "source": [
    "Exercise 11: F-test and Univariate Feature Selection¶\n"
   ]
  },
  {
   "cell_type": "code",
   "execution_count": 30,
   "id": "458e7c88",
   "metadata": {},
   "outputs": [
    {
     "name": "stdout",
     "output_type": "stream",
     "text": [
      "(500, 6) (500,)\n"
     ]
    }
   ],
   "source": [
    "X = df[features_response].iloc[:,:-1].values\n",
    "y = df[features_response].iloc[:,-1].values\n",
    "print(X.shape, y.shape)"
   ]
  },
  {
   "cell_type": "code",
   "execution_count": 31,
   "id": "673389da",
   "metadata": {},
   "outputs": [],
   "source": [
    "from sklearn.feature_selection import f_classif"
   ]
  },
  {
   "cell_type": "markdown",
   "id": "8f48ef8e",
   "metadata": {},
   "source": [
    "#SVR"
   ]
  },
  {
   "cell_type": "code",
   "execution_count": null,
   "id": "4979259c",
   "metadata": {},
   "outputs": [],
   "source": []
  },
  {
   "cell_type": "code",
   "execution_count": 2,
   "id": "bdcf602d",
   "metadata": {},
   "outputs": [],
   "source": [
    "import pandas as pd"
   ]
  },
  {
   "cell_type": "code",
   "execution_count": 3,
   "id": "23309693",
   "metadata": {},
   "outputs": [],
   "source": [
    "df2 = pd.read_csv('facebook_5_5.csv')"
   ]
  },
  {
   "cell_type": "code",
   "execution_count": 4,
   "id": "c2cd2025",
   "metadata": {},
   "outputs": [
    {
     "data": {
      "text/plain": [
       "(425, 1)"
      ]
     },
     "execution_count": 4,
     "metadata": {},
     "output_type": "execute_result"
    }
   ],
   "source": [
    "df2.shape"
   ]
  },
  {
   "cell_type": "code",
   "execution_count": 5,
   "id": "c5b85dda",
   "metadata": {},
   "outputs": [
    {
     "name": "stdout",
     "output_type": "stream",
     "text": [
      "<class 'pandas.core.frame.DataFrame'>\n",
      "RangeIndex: 425 entries, 0 to 424\n",
      "Data columns (total 1 columns):\n",
      " #   Column                                                                   Non-Null Count  Dtype \n",
      "---  ------                                                                   --------------  ----- \n",
      " 0   139441;Photo;2;12;4;3;0;2752;5091;178;109;159;3078;1640;119;4;79;17;100  425 non-null    object\n",
      "dtypes: object(1)\n",
      "memory usage: 3.4+ KB\n"
     ]
    }
   ],
   "source": [
    "df2.info()"
   ]
  },
  {
   "cell_type": "code",
   "execution_count": null,
   "id": "c8e98c2f",
   "metadata": {},
   "outputs": [],
   "source": []
  }
 ],
 "metadata": {
  "kernelspec": {
   "display_name": "Python 3",
   "language": "python",
   "name": "python3"
  },
  "language_info": {
   "codemirror_mode": {
    "name": "ipython",
    "version": 3
   },
   "file_extension": ".py",
   "mimetype": "text/x-python",
   "name": "python",
   "nbconvert_exporter": "python",
   "pygments_lexer": "ipython3",
   "version": "3.8.8"
  }
 },
 "nbformat": 4,
 "nbformat_minor": 5
}
